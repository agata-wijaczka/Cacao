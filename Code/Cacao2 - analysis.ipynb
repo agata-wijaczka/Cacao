{
 "cells": [
  {
   "cell_type": "code",
   "execution_count": null,
   "metadata": {},
   "outputs": [],
   "source": [
    "import pandas as pd\n",
    "import numpy as np\n",
    "import matplotlib.pyplot as plt\n",
    "import os"
   ]
  },
  {
   "cell_type": "code",
   "execution_count": null,
   "metadata": {},
   "outputs": [],
   "source": [
    "plt.style.use('fivethirtyeight')\n",
    "plt.rcParams['figure.figsize'] = [6.0, 6.0] \n",
    "plt.rcParams['figure.dpi'] = 200 \n",
    "plt.rcParams.update({'font.size': 11})"
   ]
  },
  {
   "cell_type": "code",
   "execution_count": null,
   "metadata": {},
   "outputs": [],
   "source": [
    "df = pd.read_csv('cacao_ready.csv')"
   ]
  },
  {
   "cell_type": "code",
   "execution_count": null,
   "metadata": {},
   "outputs": [],
   "source": [
    "df_best = df.loc[df['Rating'] >=4.0]"
   ]
  },
  {
   "cell_type": "code",
   "execution_count": null,
   "metadata": {},
   "outputs": [],
   "source": [
    "df_worst = df.loc[df['Rating'] <=2.0]"
   ]
  },
  {
   "cell_type": "code",
   "execution_count": null,
   "metadata": {},
   "outputs": [],
   "source": [
    "print(os.getcwd())"
   ]
  },
  {
   "cell_type": "code",
   "execution_count": null,
   "metadata": {},
   "outputs": [],
   "source": [
    "#path = \"../vizs\"\n",
    "\n",
    "#try:\n",
    "#    os.mkdir(path)\n",
    "#except OSError:\n",
    "#    pass"
   ]
  },
  {
   "cell_type": "code",
   "execution_count": null,
   "metadata": {},
   "outputs": [],
   "source": [
    "\n",
    "plt.hist(x=df['Rating'], color='magenta', bins=17, edgecolor='white')\n",
    "plt.title('Rating')\n",
    "plt.ylabel('Number of records');\n",
    "plt.tight_layout();\n",
    "\n",
    "plt.savefig('rating_counts.png', dpi=200);"
   ]
  },
  {
   "cell_type": "code",
   "execution_count": null,
   "metadata": {},
   "outputs": [],
   "source": [
    "plt.scatter(x=df['Bean Type Group'], y=df['Rating'], marker='o', color='brown')\n",
    "plt.xticks(rotation=45);\n",
    "plt.tight_layout();\n",
    "plt.savefig('Bean_type_rating.png', dpi=800);\n",
    "# plt.show()"
   ]
  },
  {
   "cell_type": "code",
   "execution_count": null,
   "metadata": {},
   "outputs": [],
   "source": [
    "#remove type unknown to better showcase other types\n",
    "\n",
    "#df_known_type = df[df.['Bean Type Group'] != 'Unknown']\n",
    "df_known_type = df.drop(df.loc[df['Bean Type Group']=='Unknown'].index, inplace=True)\n",
    "\n",
    "plt.hist(x=df['Bean Type Group'], color='blue', bins=17, edgecolor='white')\n",
    "plt.title('Bean Types')\n",
    "plt.ylabel('Number of records')\n",
    "plt.xticks(rotation=45);\n",
    "plt.tight_layout();\n",
    "\n",
    "plt.savefig('Bean_type_records.png', dpi=900)"
   ]
  },
  {
   "cell_type": "code",
   "execution_count": null,
   "metadata": {},
   "outputs": [],
   "source": [
    "plt.hist(x=df_best['Bean Type Group'], color='blue', bins=17, edgecolor='white')\n",
    "plt.title('Bean Types')\n",
    "plt.ylabel('Number of records')\n",
    "plt.xticks(rotation=45)\n",
    "plt.show()"
   ]
  },
  {
   "cell_type": "code",
   "execution_count": null,
   "metadata": {},
   "outputs": [],
   "source": [
    "plt.hist(x=df_worst['Bean Type Group'], color='blue', bins=17, edgecolor='white')\n",
    "plt.title('Bean Types')\n",
    "plt.ylabel('Number of records')\n",
    "plt.xticks(rotation=45)\n",
    "plt.show()"
   ]
  },
  {
   "cell_type": "code",
   "execution_count": null,
   "metadata": {},
   "outputs": [],
   "source": [
    "# as there aren't many records for bean types other than the main 4, \n",
    "# it does not make sense to analyse the whole set for dependencies, set containing record of best ones could be useful"
   ]
  },
  {
   "cell_type": "code",
   "execution_count": null,
   "metadata": {},
   "outputs": [],
   "source": []
  },
  {
   "cell_type": "code",
   "execution_count": null,
   "metadata": {},
   "outputs": [],
   "source": [
    "stats_by_year_general = df.pivot_table(\n",
    "    index='Review Date',\n",
    "    values=['Cacao %', 'Rating'],\n",
    "    aggfunc='mean'\n",
    ")\n",
    "\n",
    "stats_by_year_general"
   ]
  },
  {
   "cell_type": "code",
   "execution_count": null,
   "metadata": {},
   "outputs": [],
   "source": [
    "fig, ax1 = plt.subplots()\n",
    "\n",
    "color = 'tab:red'\n",
    "ax1.set_xlabel('Review Date')\n",
    "ax1.set_ylabel('Cacao %', color=color)\n",
    "ax1.plot(stats_by_year_general.index, stats_by_year_general['Cacao %'], color=color)\n",
    "ax1.tick_params(axis='y', labelcolor=color)\n",
    "\n",
    "ax2 = ax1.twinx() \n",
    "\n",
    "color = 'tab:blue'\n",
    "ax2.set_ylabel('Rating', color=color)  \n",
    "ax2.plot(stats_by_year_general.index, stats_by_year_general['Rating'], color=color)\n",
    "ax2.tick_params(axis='y', labelcolor=color)\n",
    "\n",
    "plt.tight_layout();\n",
    "\n",
    "plt.savefig('Average_perc_and_rates', dpi=900)\n",
    "\n",
    "\n"
   ]
  },
  {
   "cell_type": "code",
   "execution_count": null,
   "metadata": {},
   "outputs": [],
   "source": []
  },
  {
   "cell_type": "code",
   "execution_count": null,
   "metadata": {},
   "outputs": [],
   "source": [
    "import seaborn as sns\n",
    "import matplotlib.pyplot as plt\n",
    "import pandas as pd\n",
    "import numpy as np\n",
    "\n",
    "pd.set_option('display.max_columns', None)\n",
    "\n",
    "%matplotlib inline"
   ]
  },
  {
   "cell_type": "code",
   "execution_count": null,
   "metadata": {},
   "outputs": [],
   "source": [
    "sns.set_palette('colorblind')\n",
    "\n",
    "%config InlineBackend.figure_format = 'retina'"
   ]
  },
  {
   "cell_type": "code",
   "execution_count": null,
   "metadata": {},
   "outputs": [],
   "source": [
    "sns.catplot(x='Bean Origin', \n",
    "            y='Rating', \n",
    "            data=df, \n",
    "            kind='box',\n",
    "             height=15, aspect=1, orient=None, color=None, palette='colorblind',)\n",
    "\n",
    "# information about the chart\n",
    "plt.xticks(rotation=80)\n",
    "plt.xlabel(\"Bean Origin\")\n",
    "plt.ylabel(\"Rating\")\n",
    "plt.title(\"Distribution of the Rating depending on the Bean Origin\")\n",
    "plt.rcParams['figure.dpi'] = 500\n",
    "plt.tight_layout();\n",
    "plt.savefig('origin_rate', dpi=800)\n",
    "\n",
    "#plt.show()"
   ]
  },
  {
   "cell_type": "code",
   "execution_count": null,
   "metadata": {},
   "outputs": [],
   "source": [
    "plt.hist(x=df['Bean Origin'], color='brown', bins = 56,  edgecolor='white')\n",
    "plt.title('Bean Origin')\n",
    "plt.ylabel('Number of records')\n",
    "plt.xticks(rotation=90)\n",
    "plt.tight_layout();\n",
    "\n",
    "plt.savefig('origin_records', dpi=200)"
   ]
  },
  {
   "cell_type": "code",
   "execution_count": null,
   "metadata": {},
   "outputs": [],
   "source": [
    "# are any of the countries with low count significant in the worst or best groups?\n"
   ]
  },
  {
   "cell_type": "code",
   "execution_count": null,
   "metadata": {},
   "outputs": [],
   "source": [
    "plt.hist(x=df_best['Bean Origin'], color='brown', bins = 25, edgecolor='white')\n",
    "plt.title('Bean Origin')\n",
    "plt.ylabel('Number of records')\n",
    "plt.xticks(rotation=80)\n",
    "plt.show()"
   ]
  },
  {
   "cell_type": "code",
   "execution_count": null,
   "metadata": {},
   "outputs": [],
   "source": [
    "#count_origins = df.pivot_table(values=\"Bean Origin\", index=\"Y\", columns=\"Z\", aggfunc=pd.Series.nunique)\n",
    "\n"
   ]
  },
  {
   "cell_type": "code",
   "execution_count": null,
   "metadata": {},
   "outputs": [],
   "source": [
    "from collections import Counter\n",
    "count_origins = Counter( df['Bean Origin'] )"
   ]
  },
  {
   "cell_type": "code",
   "execution_count": null,
   "metadata": {},
   "outputs": [],
   "source": [
    "count_origins.most_common()"
   ]
  },
  {
   "cell_type": "code",
   "execution_count": null,
   "metadata": {},
   "outputs": [],
   "source": [
    "#For further analysis I am choosing only the top five origins, as further the drop is too big to reasonably compare data "
   ]
  },
  {
   "cell_type": "code",
   "execution_count": null,
   "metadata": {},
   "outputs": [],
   "source": [
    "most_com_origins = count_origins.most_common(5)"
   ]
  },
  {
   "cell_type": "code",
   "execution_count": null,
   "metadata": {},
   "outputs": [],
   "source": [
    "def comm_occ_list(counter_list):\n",
    "    comm_occ = []\n",
    "    number = len(counter_list)\n",
    "    i = 0\n",
    "    while i < number:\n",
    "        comm_occ.append(counter_list[i][0])\n",
    "        i+=1\n",
    "    return comm_occ\n",
    "    \n",
    "        "
   ]
  },
  {
   "cell_type": "code",
   "execution_count": null,
   "metadata": {},
   "outputs": [],
   "source": [
    "most_comm_origins_list = comm_occ_list(most_com_origins)"
   ]
  },
  {
   "cell_type": "code",
   "execution_count": null,
   "metadata": {},
   "outputs": [],
   "source": [
    "df_origins = df[df['Bean Origin'].isin(most_comm_origins_list)]"
   ]
  },
  {
   "cell_type": "code",
   "execution_count": null,
   "metadata": {},
   "outputs": [],
   "source": [
    "df_origins"
   ]
  },
  {
   "cell_type": "code",
   "execution_count": null,
   "metadata": {},
   "outputs": [],
   "source": [
    "sns.catplot(x='Bean Origin', \n",
    "            y='Rating', \n",
    "            data=df_origins, \n",
    "            kind='box',\n",
    "             height=15, aspect=1, orient=None, color=None, palette='colorblind',)\n",
    "\n",
    "# information about the chart\n",
    "plt.xticks(rotation=80)\n",
    "plt.xlabel(\"Bean Origin\")\n",
    "plt.ylabel(\"Rating\")\n",
    "plt.title(\"Distribution of the Rating depending on the Bean Origin\")\n",
    "plt.rcParams['figure.dpi'] = 500\n",
    "plt.tight_layout();\n",
    "plt.savefig('comm_origin_rate', dpi=200)\n",
    "#plt.show()"
   ]
  },
  {
   "cell_type": "code",
   "execution_count": null,
   "metadata": {},
   "outputs": [],
   "source": [
    "stats_by_year = df_origins.pivot_table(\n",
    "    index='Review Date',\n",
    "    values=['Cacao %', 'Rating'],\n",
    "    aggfunc='mean'\n",
    ")\n",
    "\n",
    "stats_by_year"
   ]
  },
  {
   "cell_type": "code",
   "execution_count": null,
   "metadata": {},
   "outputs": [],
   "source": [
    "from bokeh.plotting import figure, output_file, show, save"
   ]
  },
  {
   "cell_type": "code",
   "execution_count": null,
   "metadata": {},
   "outputs": [],
   "source": [
    "\n",
    "p2 = figure(\n",
    "    title='Average Cacao % for all and most common bean origins',\n",
    "    plot_height=500,\n",
    "    plot_width=600,\n",
    "    y_axis_label='Cacao %'\n",
    ")\n",
    "\n",
    "# lines are great for showing trends\n",
    "p2.line(x=stats_by_year.index, y=stats_by_year_general['Cacao %'], line_width=2)\n",
    "\n",
    "# and we can combine them in the sample figure with other markers, change the size, and add color to the marker\n",
    "p2.line(x=stats_by_year.index, y=stats_by_year['Cacao %'], line_width=4)\n",
    "plt.tight_layout();\n",
    "#plt.savefig('percentage_comparison', dpi=400)\n",
    "output_file('percentage_comparison.html');\n",
    "save(p2)"
   ]
  },
  {
   "cell_type": "code",
   "execution_count": null,
   "metadata": {},
   "outputs": [],
   "source": [
    "df['Made in'].unique()"
   ]
  },
  {
   "cell_type": "code",
   "execution_count": null,
   "metadata": {},
   "outputs": [],
   "source": [
    "sns.catplot(x='Made in', \n",
    "            y='Rating', \n",
    "            data=df, \n",
    "            kind='box',\n",
    "             height=15, aspect=1, orient=None, color=None, palette='colorblind',)\n",
    "\n",
    "# information about the chart\n",
    "plt.xticks(rotation=80)\n",
    "plt.xlabel(\"Made in\")\n",
    "plt.ylabel(\"Rating\")\n",
    "plt.title(\"Distribution of the Rating depending on the Country if production\")\n",
    "plt.rcParams['figure.dpi'] = 500\n",
    "\n",
    "\n",
    "#plt.show()"
   ]
  },
  {
   "cell_type": "code",
   "execution_count": null,
   "metadata": {},
   "outputs": [],
   "source": [
    "count_madein = Counter( df['Made in'] )"
   ]
  },
  {
   "cell_type": "code",
   "execution_count": null,
   "metadata": {},
   "outputs": [],
   "source": []
  },
  {
   "cell_type": "code",
   "execution_count": null,
   "metadata": {},
   "outputs": [],
   "source": [
    "most_com_madein = count_madein.most_common(5)"
   ]
  },
  {
   "cell_type": "code",
   "execution_count": null,
   "metadata": {},
   "outputs": [],
   "source": [
    "most_comm_madein_list = comm_occ_list(most_com_madein)"
   ]
  },
  {
   "cell_type": "code",
   "execution_count": null,
   "metadata": {},
   "outputs": [],
   "source": [
    "df_madein = df[df['Made in'].isin(most_comm_madein_list)]"
   ]
  },
  {
   "cell_type": "code",
   "execution_count": null,
   "metadata": {},
   "outputs": [],
   "source": [
    "sns.catplot(x='Made in', \n",
    "            y='Rating', \n",
    "            data=df_madein, \n",
    "            kind='box',\n",
    "             height=15, aspect=1, orient=None, color=None, palette='colorblind',)\n",
    "\n",
    "# information about the chart\n",
    "plt.xticks(rotation=80)\n",
    "plt.xlabel(\"Made in\")\n",
    "plt.ylabel(\"Rating\")\n",
    "plt.title(\"Distribution of the Rating depending on the Country of production\")\n",
    "plt.rcParams['figure.dpi'] = 500\n",
    "plt.tight_layout();\n",
    "plt.savefig('comm_madein_rate', dpi=800)\n",
    "\n",
    "#plt.show()"
   ]
  },
  {
   "cell_type": "code",
   "execution_count": null,
   "metadata": {},
   "outputs": [],
   "source": [
    "count_origins_best = Counter( df_best['Bean Origin'] )"
   ]
  },
  {
   "cell_type": "code",
   "execution_count": null,
   "metadata": {},
   "outputs": [],
   "source": [
    "#count_origins_best.most_common()"
   ]
  },
  {
   "cell_type": "code",
   "execution_count": null,
   "metadata": {},
   "outputs": [],
   "source": [
    "# I am choosing the top 4 as the lowest one is about 25% of the highest count and after that the counts are similiar"
   ]
  },
  {
   "cell_type": "code",
   "execution_count": null,
   "metadata": {},
   "outputs": [],
   "source": [
    "count_origins_best.most_common(6)"
   ]
  },
  {
   "cell_type": "code",
   "execution_count": null,
   "metadata": {},
   "outputs": [],
   "source": [
    "stats_by_percentage = df.pivot_table(\n",
    "    index='Cacao %',\n",
    "    values=['Rating'],\n",
    "    aggfunc=['mean', 'min', 'max']\n",
    ")\n",
    "\n",
    "stats_by_percentage "
   ]
  },
  {
   "cell_type": "code",
   "execution_count": null,
   "metadata": {},
   "outputs": [],
   "source": [
    "from bokeh.models import HoverTool, ColumnDataSource\n"
   ]
  },
  {
   "cell_type": "code",
   "execution_count": null,
   "metadata": {},
   "outputs": [],
   "source": [
    "#!conda install selenium geckodriver firefox -c conda-forge\n",
    "#Installing selenium has been taking way too long,\n",
    "#from bokeh.io import export_png"
   ]
  },
  {
   "cell_type": "code",
   "execution_count": null,
   "metadata": {},
   "outputs": [],
   "source": [
    "hover = HoverTool(\n",
    "  tooltips=[\n",
    "    ('Rating',   '@y'),\n",
    "    ('Cacao %',  '@x' ), \n",
    "\n",
    "  ],\n",
    "  #formatters={\n",
    "   # 'Rating' : '@y', \n",
    " #   'Cacao %' : '@x',\n",
    "                 \n",
    "#  },\n",
    "  mode='vline'\n",
    ")\n",
    "\n",
    "\n",
    "p3 = figure(\n",
    "    title='Ratings depending on Cacao %',\n",
    "    plot_height=900,\n",
    "    plot_width=800,\n",
    "    y_axis_label='Rating',\n",
    "    tools=[hover, 'crosshair']\n",
    ")\n",
    "\n",
    "source = ColumnDataSource(df)\n",
    "\n",
    "# lines are great for showing trends\n",
    "p3.line(x=stats_by_percentage.index, y=stats_by_percentage['mean']['Rating'], line_width=4, color = 'steelblue')\n",
    "\n",
    "# and we can combine them in the sample figure with other markers, change the size, and add color to the marker\n",
    "p3.line(x=stats_by_percentage.index, y=stats_by_percentage['min']['Rating'], line_width=2, color = 'firebrick')\n",
    "\n",
    "p3.line(x=stats_by_percentage.index, y=stats_by_percentage['max']['Rating'], line_width=2, color = 'lawngreen')\n",
    "\n",
    "plt.tight_layout();\n",
    "#plt.savefig('ratings_and_percentage', dpi=800)\n",
    "output_file('ratings_and_percentage.html');\n",
    "#export_png(p3, filename = 'ratings_and_percentage' )\n",
    "save(p3)\n",
    "#show(p3)"
   ]
  },
  {
   "cell_type": "code",
   "execution_count": null,
   "metadata": {},
   "outputs": [],
   "source": []
  },
  {
   "cell_type": "code",
   "execution_count": null,
   "metadata": {},
   "outputs": [],
   "source": [
    "#hover = HoverTool(tooltips=None, mode='hline')\n",
    "\n",
    "p4 = figure(\n",
    "title='Cacao % through the years',\n",
    "plot_height=900,\n",
    "plot_width=900,\n",
    "#tools=[hover, 'crosshair']\n",
    ")\n",
    "\n",
    "p4.cross(df['Review Date'], df['Cacao %'], size = 10)\n",
    "plt.tight_layout();\n",
    "#plt.savefig('percentage_in_time', dpi=800)\n",
    "output_file('percentage_in_time.html');\n",
    "save(p4)\n",
    "#show(p4)"
   ]
  }
 ],
 "metadata": {
  "kernelspec": {
   "display_name": "Python 3",
   "language": "python",
   "name": "python3"
  },
  "language_info": {
   "codemirror_mode": {
    "name": "ipython",
    "version": 3
   },
   "file_extension": ".py",
   "mimetype": "text/x-python",
   "name": "python",
   "nbconvert_exporter": "python",
   "pygments_lexer": "ipython3",
   "version": "3.8.3"
  }
 },
 "nbformat": 4,
 "nbformat_minor": 4
}
